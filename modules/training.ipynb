{
 "cells": [
  {
   "cell_type": "code",
   "execution_count": null,
   "metadata": {},
   "outputs": [],
   "source": [
    "import pandas as pd"
   ]
  },
  {
   "cell_type": "code",
   "execution_count": null,
   "metadata": {},
   "outputs": [],
   "source": [
    "time_domain_features_df = pd.read_csv('time_domain_features.csv')\n",
    "frequency_domain_features_df = pd.read_csv('frequency_domain_features.csv')\n",
    "time_frequency_domain_features_df = pd.read_csv('time_frequency_domain_features.csv')\n",
    "\n",
    "# Gabungkan semua fitur menjadi satu DataFrame\n",
    "all_features_df = pd.concat([time_domain_features_df, frequency_domain_features_df, time_frequency_domain_features_df], axis=1)\n",
    "\n",
    "# Contoh: Tampilkan 5 baris pertama\n",
    "print(all_features_df.head())"
   ]
  },
  {
   "cell_type": "code",
   "execution_count": null,
   "metadata": {},
   "outputs": [],
   "source": [
    "from sklearn.model_selection import train_test_split\n",
    "\n",
    "# Misalkan label disimpan dalam kolom 'label' (gantilah dengan kolom yang sesuai)\n",
    "# Jika label belum ada, Anda perlu menambahkan label sesuai dengan kelas data\n",
    "# Contoh: all_features_df['label'] = [0, 1, 0, 1, ...]\n",
    "\n",
    "# Pisahkan fitur (X) dan label (y)\n",
    "X = all_features_df.drop(columns=['label'])  # Hapus kolom label untuk mendapatkan fitur\n",
    "y = all_features_df['label']  # Kolom label\n",
    "\n",
    "# Bagi data menjadi training set dan testing set\n",
    "X_train, X_test, y_train, y_test = train_test_split(X, y, test_size=0.2, random_state=42)\n",
    "\n",
    "print(\"Jumlah data training:\", len(X_train))\n",
    "print(\"Jumlah data testing:\", len(X_test))"
   ]
  },
  {
   "cell_type": "code",
   "execution_count": null,
   "metadata": {},
   "outputs": [],
   "source": [
    "from sklearn.svm import SVC\n",
    "from sklearn.metrics import accuracy_score\n",
    "\n",
    "# Inisialisasi model SVM\n",
    "svm_model = SVC(kernel='linear')  # Gunakan kernel linear untuk klasifikasi\n",
    "\n",
    "# Latih model\n",
    "svm_model.fit(X_train, y_train)\n",
    "\n",
    "# Prediksi pada testing set\n",
    "y_pred_svm = svm_model.predict(X_test)\n",
    "\n",
    "# Hitung akurasi\n",
    "accuracy_svm = accuracy_score(y_test, y_pred_svm)\n",
    "print(\"Akurasi SVM:\", accuracy_svm)"
   ]
  },
  {
   "cell_type": "code",
   "execution_count": null,
   "metadata": {},
   "outputs": [],
   "source": [
    "from sklearn.naive_bayes import GaussianNB\n",
    "\n",
    "# Inisialisasi model Naive Bayes\n",
    "nb_model = GaussianNB()\n",
    "\n",
    "# Latih model\n",
    "nb_model.fit(X_train, y_train)\n",
    "\n",
    "# Prediksi pada testing set\n",
    "y_pred_nb = nb_model.predict(X_test)\n",
    "\n",
    "# Hitung akurasi\n",
    "accuracy_nb = accuracy_score(y_test, y_pred_nb)\n",
    "print(\"Akurasi Naive Bayes:\", accuracy_nb)"
   ]
  },
  {
   "cell_type": "code",
   "execution_count": null,
   "metadata": {},
   "outputs": [],
   "source": [
    "from sklearn.ensemble import RandomForestClassifier\n",
    "\n",
    "# Inisialisasi model Random Forest\n",
    "rf_model = RandomForestClassifier(n_estimators=100, random_state=42)\n",
    "\n",
    "# Latih model\n",
    "rf_model.fit(X_train, y_train)\n",
    "\n",
    "# Prediksi pada testing set\n",
    "y_pred_rf = rf_model.predict(X_test)\n",
    "\n",
    "# Hitung akurasi\n",
    "accuracy_rf = accuracy_score(y_test, y_pred_rf)\n",
    "print(\"Akurasi Random Forest:\", accuracy_rf)"
   ]
  },
  {
   "cell_type": "code",
   "execution_count": null,
   "metadata": {},
   "outputs": [],
   "source": [
    "from sklearn.metrics import confusion_matrix, classification_report\n",
    "\n",
    "# Confusion Matrix untuk SVM\n",
    "print(\"Confusion Matrix (SVM):\")\n",
    "print(confusion_matrix(y_test, y_pred_svm))\n",
    "\n",
    "# Classification Report untuk SVM\n",
    "print(\"Classification Report (SVM):\")\n",
    "print(classification_report(y_test, y_pred_svm))\n",
    "\n",
    "# Confusion Matrix untuk Naive Bayes\n",
    "print(\"Confusion Matrix (Naive Bayes):\")\n",
    "print(confusion_matrix(y_test, y_pred_nb))\n",
    "\n",
    "# Classification Report untuk Naive Bayes\n",
    "print(\"Classification Report (Naive Bayes):\")\n",
    "print(classification_report(y_test, y_pred_nb))\n",
    "\n",
    "# Confusion Matrix untuk Random Forest\n",
    "print(\"Confusion Matrix (Random Forest):\")\n",
    "print(confusion_matrix(y_test, y_pred_rf))\n",
    "\n",
    "# Classification Report untuk Random Forest\n",
    "print(\"Classification Report (Random Forest):\")\n",
    "print(classification_report(y_test, y_pred_rf))"
   ]
  }
 ],
 "metadata": {
  "language_info": {
   "name": "python"
  }
 },
 "nbformat": 4,
 "nbformat_minor": 2
}
