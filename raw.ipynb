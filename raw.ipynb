{
 "cells": [
  {
   "cell_type": "code",
   "execution_count": 43,
   "id": "99399fef",
   "metadata": {},
   "outputs": [],
   "source": [
    "import pandas as pd\n",
    "import numpy as np\n",
    "from pathlib import Path\n",
    "from scipy.signal import iirnotch, butter, filtfilt\n",
    "from sklearn.preprocessing import StandardScaler\n",
    "from sklearn.naive_bayes import GaussianNB\n",
    "from sklearn.svm import SVC\n",
    "from sklearn.ensemble import RandomForestClassifier\n",
    "from sklearn.model_selection import train_test_split\n",
    "from sklearn.metrics import classification_report\n",
    "from scipy.signal import welch\n"
   ]
  },
  {
   "cell_type": "code",
   "execution_count": 44,
   "id": "cb6906a6",
   "metadata": {},
   "outputs": [],
   "source": [
    "def apply_notch_filter(data, f0, fs, quality_factor):\n",
    "    nyquist = 0.5 * fs\n",
    "    freq = f0 / nyquist\n",
    "    b, a = iirnotch(freq, quality_factor)\n",
    "    return filtfilt(b, a, data)\n",
    "\n",
    "def apply_bandpass_filter(data, lowcut, highcut, fs, order=5):\n",
    "    nyquist = 0.5 * fs\n",
    "    low = lowcut / nyquist\n",
    "    high = highcut / nyquist\n",
    "    b, a = butter(order, [low, high], btype='band')\n",
    "    return filtfilt(b, a, data)\n",
    "\n",
    "def apply_windowing(data, window_size, step_size):\n",
    "    return np.array([data[i:i+window_size] for i in range(0, len(data) - window_size + 1, step_size)])\n"
   ]
  },
  {
   "cell_type": "code",
   "execution_count": 53,
   "id": "553e108f",
   "metadata": {},
   "outputs": [],
   "source": [
    "def extract_features(windows, n_channels=5, fs=250, mode='both'):\n",
    "    \"\"\"\n",
    "    windows: shape (n_windows, window_length * n_channels)\n",
    "    mode: 'time', 'freq', atau 'both'\n",
    "    \"\"\"\n",
    "    window_len = windows.shape[1] // n_channels\n",
    "    features = []\n",
    "\n",
    "    for window in windows:\n",
    "        window = window.reshape(window_len, n_channels)\n",
    "        feats = []\n",
    "\n",
    "        for ch in range(n_channels):\n",
    "            signal = window[:, ch]\n",
    "\n",
    "            if mode in ['time', 'both']:\n",
    "                feats.extend([\n",
    "                    np.mean(signal),\n",
    "                    np.std(signal),\n",
    "                    np.min(signal),\n",
    "                    np.max(signal)\n",
    "                ])\n",
    "\n",
    "            if mode in ['freq', 'both']:\n",
    "                freqs, psd = welch(signal, fs, nperseg=fs)\n",
    "                bands = {\n",
    "                    'delta': (0.5, 4),\n",
    "                    'theta': (4, 8),\n",
    "                    'alpha': (8, 12),\n",
    "                    'beta': (12, 30),\n",
    "                    'gamma': (30, 45),\n",
    "                }\n",
    "                for band in bands.values():\n",
    "                    idx = np.logical_and(freqs >= band[0], freqs <= band[1])\n",
    "                    power = np.trapz(psd[idx], freqs[idx])\n",
    "                    feats.append(power)\n",
    "\n",
    "        features.append(feats)\n",
    "\n",
    "    return np.array(features)\n"
   ]
  },
  {
   "cell_type": "code",
   "execution_count": 52,
   "id": "b23f4f14",
   "metadata": {},
   "outputs": [],
   "source": [
    "def process_file(file_path, fs, window_size, step_size, label, mode):\n",
    "    df = pd.read_csv(file_path, skiprows=4)\n",
    "    df.columns = df.columns.str.strip()\n",
    "    features_all_channels = []\n",
    "    \n",
    "    # Ambil hanya kolom numerik (channel)\n",
    "    signal_columns = df.select_dtypes(include='number').columns\n",
    "    \n",
    "    for col in signal_columns:\n",
    "        signal = df[col].values\n",
    "        signal = apply_notch_filter(signal, f0=50, fs=fs, quality_factor=30)\n",
    "        signal = apply_bandpass_filter(signal, lowcut=0.5, highcut=40, fs=fs)\n",
    "        windows = apply_windowing(signal, window_size, step_size)\n",
    "        features = extract_features(windows, mode=mode)  # shape: (num_windows, 4)\n",
    "        features_all_channels.append(features)\n",
    "    \n",
    "    # Gabungkan fitur dari semua channel → axis 1\n",
    "    combined_features = np.concatenate(features_all_channels, axis=1)  # (num_windows, num_channels*4)\n",
    "    labels = [label] * combined_features.shape[0]\n",
    "    \n",
    "    return combined_features, labels\n"
   ]
  },
  {
   "cell_type": "code",
   "execution_count": 51,
   "id": "83dc91e3",
   "metadata": {},
   "outputs": [],
   "source": [
    "def load_and_process_data(base_dir='experiment', fs=250, window_size=250, step_size=125, extract_features_mode=\"both\"):\n",
    "    base_path = Path(base_dir)\n",
    "    X_all = []\n",
    "    y_all = []\n",
    "\n",
    "    # Mapping kategori dari nama file\n",
    "    category_map = {\n",
    "        'viat-map': 0,\n",
    "        'reading': 1,\n",
    "        'relax': 2,\n",
    "        'go-nogo': 3,\n",
    "    }\n",
    "\n",
    "    for subject_dir in base_path.iterdir():\n",
    "        if subject_dir.is_dir():\n",
    "            for file in subject_dir.glob(\"*.txt\"):\n",
    "                for key, label in category_map.items():\n",
    "                    if key in file.name:\n",
    "                        X, y = process_file(file, fs, window_size, step_size, label, mode=extract_features_mode)\n",
    "                        X_all.append(X)\n",
    "                        y_all.extend(y)\n",
    "                        break  # kategori sudah ditemukan\n",
    "    return np.vstack(X_all), np.array(y_all)\n"
   ]
  },
  {
   "cell_type": "code",
   "execution_count": 54,
   "id": "258406c8",
   "metadata": {},
   "outputs": [
    {
     "name": "stdout",
     "output_type": "stream",
     "text": [
      "              precision    recall  f1-score   support\n",
      "\n",
      "    viat-map       0.46      0.07      0.13      1016\n",
      "     reading       0.25      0.94      0.40       982\n",
      "       relax       0.33      0.11      0.16      1179\n",
      "     go-nogo       0.95      0.13      0.22      1168\n",
      "\n",
      "    accuracy                           0.29      4345\n",
      "   macro avg       0.50      0.31      0.23      4345\n",
      "weighted avg       0.51      0.29      0.22      4345\n",
      "\n"
     ]
    }
   ],
   "source": [
    "# Load data\n",
    "X, y = load_and_process_data('experiment', extract_features_mode=\"time\")\n",
    "\n",
    "scaler = StandardScaler()\n",
    "X = scaler.fit_transform(X)\n",
    "\n",
    "# Split data\n",
    "X_train, X_test, y_train, y_test = train_test_split(X, y, test_size=0.2, random_state=42)\n",
    "\n",
    "# Model\n",
    "nb_model = GaussianNB()\n",
    "nb_model.fit(X_train, y_train)\n",
    "\n",
    "# Evaluasi\n",
    "y_pred = nb_model.predict(X_test)\n",
    "print(classification_report(y_test, y_pred, target_names=['viat-map', 'reading', 'relax', 'go-nogo']))\n"
   ]
  },
  {
   "cell_type": "code",
   "execution_count": null,
   "id": "ba34d343",
   "metadata": {},
   "outputs": [
    {
     "name": "stdout",
     "output_type": "stream",
     "text": [
      "              precision    recall  f1-score   support\n",
      "\n",
      "    viat-map       0.81      0.80      0.80      1016\n",
      "     reading       0.85      0.83      0.84       982\n",
      "       relax       0.90      0.93      0.91      1179\n",
      "     go-nogo       0.91      0.91      0.91      1168\n",
      "\n",
      "    accuracy                           0.87      4345\n",
      "   macro avg       0.87      0.87      0.87      4345\n",
      "weighted avg       0.87      0.87      0.87      4345\n",
      "\n"
     ]
    }
   ],
   "source": [
    "# Load data\n",
    "X, y = load_and_process_data('experiment')\n",
    "\n",
    "scaler = StandardScaler()\n",
    "X = scaler.fit_transform(X)\n",
    "\n",
    "# Split data\n",
    "X_train, X_test, y_train, y_test = train_test_split(X, y, test_size=0.2, random_state=42)\n",
    "\n",
    "# Model\n",
    "rf_model = RandomForestClassifier()\n",
    "rf_model.fit(X_train, y_train)\n",
    "\n",
    "# Evaluasi\n",
    "y_pred = rf_model.predict(X_test)\n",
    "print(classification_report(y_test, y_pred, target_names=['viat-map', 'reading', 'relax', 'go-nogo']))\n"
   ]
  },
  {
   "cell_type": "code",
   "execution_count": 26,
   "id": "1a6cfd49",
   "metadata": {},
   "outputs": [
    {
     "name": "stdout",
     "output_type": "stream",
     "text": [
      "              precision    recall  f1-score   support\n",
      "\n",
      "    viat-map       0.67      0.55      0.60      1016\n",
      "     reading       0.78      0.43      0.55       982\n",
      "       relax       0.56      0.90      0.69      1179\n",
      "     go-nogo       0.83      0.76      0.80      1168\n",
      "\n",
      "    accuracy                           0.67      4345\n",
      "   macro avg       0.71      0.66      0.66      4345\n",
      "weighted avg       0.71      0.67      0.67      4345\n",
      "\n"
     ]
    }
   ],
   "source": [
    "# Load data\n",
    "X, y = load_and_process_data('experiment')\n",
    "\n",
    "# Normalisasi\n",
    "scaler = StandardScaler()\n",
    "X = scaler.fit_transform(X)\n",
    "\n",
    "# Split data\n",
    "X_train, X_test, y_train, y_test = train_test_split(X, y, test_size=0.2, random_state=42)\n",
    "\n",
    "# Train SVM\n",
    "svm_model = SVC(kernel='rbf', C=1.0, gamma='scale')\n",
    "svm_model.fit(X_train, y_train)\n",
    "\n",
    "# Evaluasi\n",
    "y_pred = svm_model.predict(X_test)\n",
    "print(classification_report(y_test, y_pred, target_names=['viat-map', 'reading', 'relax', 'go-nogo']))\n"
   ]
  },
  {
   "cell_type": "code",
   "execution_count": 17,
   "id": "7b13aba4",
   "metadata": {},
   "outputs": [],
   "source": [
    "from sklearn.metrics import confusion_matrix\n",
    "import seaborn as sns\n",
    "import matplotlib.pyplot as plt"
   ]
  },
  {
   "cell_type": "code",
   "execution_count": 55,
   "id": "98695296",
   "metadata": {},
   "outputs": [
    {
     "data": {
      "image/png": "[encoded data removed]",
      "text/plain": [
       "<Figure size 800x600 with 2 Axes>"
      ]
     },
     "metadata": {},
     "output_type": "display_data"
    }
   ],
   "source": [
    "# Daftar nama kelas sesuai label\n",
    "class_names = ['viat-map', 'reading', 'relax', 'go-nogo']\n",
    "\n",
    "# Buat confusion matrix\n",
    "cm = confusion_matrix(y_test, y_pred)\n",
    "\n",
    "# Visualisasikan\n",
    "plt.figure(figsize=(8, 6))\n",
    "sns.heatmap(cm, annot=True, fmt='d', cmap='Blues',\n",
    "            xticklabels=class_names,\n",
    "            yticklabels=class_names)\n",
    "\n",
    "plt.xlabel('Predicted Label')\n",
    "plt.ylabel('True Label')\n",
    "plt.title('Confusion Matrix - SVM')\n",
    "plt.tight_layout()\n",
    "plt.show()\n"
   ]
  },
  {
   "cell_type": "code",
   "execution_count": null,
   "id": "f05a5250",
   "metadata": {},
   "outputs": [],
   "source": []
  },
  {
   "cell_type": "code",
   "execution_count": null,
   "id": "30b21b1c",
   "metadata": {},
   "outputs": [],
   "source": []
  },
  {
   "cell_type": "code",
   "execution_count": 28,
   "id": "2a19de09",
   "metadata": {},
   "outputs": [],
   "source": [
    "eeg_bands = {\n",
    "    'Delta': (0.5, 4),\n",
    "    'Theta': (4, 8),\n",
    "    'Alpha': (8, 12),\n",
    "    'Beta': (12, 30),\n",
    "    'Gamma': (30, 45)\n",
    "}\n"
   ]
  },
  {
   "cell_type": "code",
   "execution_count": 29,
   "id": "c6ae2879",
   "metadata": {},
   "outputs": [],
   "source": [
    "from scipy.signal import welch\n",
    "\n",
    "def compute_band_powers(signal, fs):\n",
    "    freqs, psd = welch(signal, fs, nperseg=fs*2)\n",
    "    band_powers = {}\n",
    "    for band, (low, high) in eeg_bands.items():\n",
    "        idx_band = np.logical_and(freqs >= low, freqs <= high)\n",
    "        band_power = np.trapz(psd[idx_band], freqs[idx_band])\n",
    "        band_powers[band] = band_power\n",
    "    return band_powers\n"
   ]
  },
  {
   "cell_type": "code",
   "execution_count": 39,
   "id": "9174f9c8",
   "metadata": {},
   "outputs": [],
   "source": [
    "def get_sample_bandpowers(X, y, fs, category_map):\n",
    "    import random\n",
    "    category_bandpowers = {}\n",
    "\n",
    "    for label_name, label_id in category_map.items():\n",
    "        indices = np.where(y == label_id)[0]\n",
    "        sample_idx = random.choice(indices)\n",
    "        signal = X[sample_idx]  # 1D array\n",
    "\n",
    "        bp = compute_band_powers(signal, fs)\n",
    "        category_bandpowers[label_name] = bp\n",
    "\n",
    "    return category_bandpowers\n"
   ]
  },
  {
   "cell_type": "code",
   "execution_count": 42,
   "id": "bd543986",
   "metadata": {},
   "outputs": [
    {
     "name": "stderr",
     "output_type": "stream",
     "text": [
      "d:\\Skripsi\\eeg-analysis\\env\\Lib\\site-packages\\scipy\\signal\\_spectral_py.py:790: UserWarning: nperseg = 500 is greater than input length  = 128, using nperseg = 128\n",
      "  freqs, _, Pxy = _spectral_helper(x, y, fs, window, nperseg, noverlap,\n",
      "C:\\Users\\Administrator\\AppData\\Local\\Temp\\ipykernel_35376\\1113632901.py:8: DeprecationWarning: `trapz` is deprecated. Use `trapezoid` instead, or one of the numerical integration functions in `scipy.integrate`.\n",
      "  band_power = np.trapz(psd[idx_band], freqs[idx_band])\n"
     ]
    },
    {
     "data": {
      "image/png": "[encoded data removed]",
      "text/plain": [
       "<Figure size 1000x600 with 1 Axes>"
      ]
     },
     "metadata": {},
     "output_type": "display_data"
    }
   ],
   "source": [
    "category_map = {\n",
    "    'viat-map': 0,\n",
    "    'reading': 1,\n",
    "    'relax': 2,\n",
    "    'go-nogo': 3,\n",
    "}\n",
    "\n",
    "# Ambil band power 1 sampel per kategori\n",
    "bandpowers = get_sample_bandpowers(X, y, fs=250, category_map=category_map)\n",
    "\n",
    "# Plot hasilnya\n",
    "plot_bandpowers(bandpowers)\n"
   ]
  },
  {
   "cell_type": "code",
   "execution_count": 37,
   "id": "8ee2dc58",
   "metadata": {},
   "outputs": [],
   "source": [
    "def plot_bandpowers(bandpowers):\n",
    "    df = pd.DataFrame(bandpowers).T\n",
    "    df.plot(kind='bar', figsize=(10, 6), colormap='viridis')\n",
    "    plt.title('Average EEG Band Power for Sample from Each Category')\n",
    "    plt.ylabel('Power')\n",
    "    plt.xlabel('Category')\n",
    "    plt.legend(title='EEG Bands')\n",
    "    plt.tight_layout()\n",
    "    plt.show()\n"
   ]
  },
  {
   "cell_type": "code",
   "execution_count": null,
   "id": "c2f872e6",
   "metadata": {},
   "outputs": [],
   "source": [
    "# Load data\n",
    "X, y = load_and_process_data('experiment')\n",
    "\n",
    "# Split data\n",
    "X_train, X_test, y_train, y_test = train_test_split(X, y, test_size=0.2, random_state=42)\n",
    "\n",
    "# Model\n",
    "clf = GaussianNB()\n",
    "clf.fit(X_train, y_train)\n",
    "\n",
    "# Evaluasi\n",
    "y_pred = clf.predict(X_test)\n",
    "print(classification_report(y_test, y_pred, target_names=['viat-map', 'reading', 'relax', 'go-nogo']))\n"
   ]
  },
  {
   "cell_type": "code",
   "execution_count": null,
   "id": "a01b7a4e",
   "metadata": {},
   "outputs": [],
   "source": [
    "import joblib\n",
    "joblib.dump(clf, 'svm_model.pkl')\n",
    "joblib.dump(scaler, 'scaler.pkl')\n"
   ]
  }
 ],
 "metadata": {
  "kernelspec": {
   "display_name": "env",
   "language": "python",
   "name": "python3"
  },
  "language_info": {
   "codemirror_mode": {
    "name": "ipython",
    "version": 3
   },
   "file_extension": ".py",
   "mimetype": "text/x-python",
   "name": "python",
   "nbconvert_exporter": "python",
   "pygments_lexer": "ipython3",
   "version": "3.12.0"
  }
 },
 "nbformat": 4,
 "nbformat_minor": 5
}
