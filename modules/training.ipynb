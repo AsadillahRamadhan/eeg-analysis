{
 "cells": [
  {
   "cell_type": "code",
   "execution_count": 1,
   "metadata": {},
   "outputs": [],
   "source": [
    "import pandas as pd"
   ]
  },
  {
   "cell_type": "code",
   "execution_count": 2,
   "metadata": {},
   "outputs": [
    {
     "name": "stdout",
     "output_type": "stream",
     "text": [
      "       mean  variance   std_dev       rms  zero_crossing_rate  \\\n",
      "0  0.066456  0.022591  0.150304  0.164340               0.224   \n",
      "1  0.028034  0.020671  0.143776  0.146483               0.264   \n",
      "2  0.002953  0.044231  0.210311  0.210331               0.136   \n",
      "3 -0.011394  0.017060  0.130614  0.131110               0.208   \n",
      "4  0.033113  0.024051  0.155083  0.158579               0.176   \n",
      "\n",
      "                channel window  dominant_freq  delta_power  theta_power  ...  \\\n",
      "0  EXG Channel 0_Window      1            1.0     0.003301     0.002156  ...   \n",
      "1  EXG Channel 0_Window      2            4.0     0.006240     0.006728  ...   \n",
      "2  EXG Channel 0_Window      3            1.0     0.021450     0.002107  ...   \n",
      "3  EXG Channel 0_Window      4            9.0     0.000925     0.004589  ...   \n",
      "4  EXG Channel 0_Window      5            1.0     0.005421     0.002382  ...   \n",
      "\n",
      "   beta_power  gamma_power               channel window  \\\n",
      "0    0.005110     0.002076  EXG Channel 0_Window      1   \n",
      "1    0.008412     0.001171  EXG Channel 0_Window      2   \n",
      "2    0.006900     0.001164  EXG Channel 0_Window      3   \n",
      "3    0.003625     0.000951  EXG Channel 0_Window      4   \n",
      "4    0.002909     0.001096  EXG Channel 0_Window      5   \n",
      "\n",
      "                                       approximation  \\\n",
      "0  [ 0.00727589  0.02140006  0.00227123  0.061006...   \n",
      "1  [ 0.43297332  0.44382092  0.48622152  0.431290...   \n",
      "2  [ 0.41556457  0.45734028  0.44833506  0.494462...   \n",
      "3  [ 0.36611656  0.35993794  0.38488661  0.344922...   \n",
      "4  [-0.01307822 -0.04215131 -0.00391464 -0.058340...   \n",
      "\n",
      "                                            detail_1  \\\n",
      "0  [ 0.05982611  0.18544933 -0.15463969 -0.089817...   \n",
      "1  [ 0.02148349  0.08358388  0.16131987 -0.058287...   \n",
      "2  [ 0.10686673  0.34354411 -0.07421395 -0.169626...   \n",
      "3  [-0.00425057 -0.00666033  0.06505795 -0.237213...   \n",
      "4  [-0.05287976 -0.16111459  0.10234225  0.103235...   \n",
      "\n",
      "                                            detail_2  \\\n",
      "0  [-0.00454728 -0.00757256  0.00755773  0.031591...   \n",
      "1  [-0.09360708 -0.29470623  0.12454663  0.009840...   \n",
      "2  [-0.05712655 -0.16677805  0.11470664 -0.033045...   \n",
      "3  [-0.04334908 -0.13914438  0.03980504  0.048921...   \n",
      "4  [-0.03512388 -0.12055279 -0.00156734  0.114345...   \n",
      "\n",
      "                                            detail_3               channel  \\\n",
      "0  [-0.00082798 -0.00137222  0.00201702  0.004826...  EXG Channel 0_Window   \n",
      "1  [ 7.53220522e-03  2.13645232e-02 -4.58848868e-...  EXG Channel 0_Window   \n",
      "2  [ 4.71801017e-03  9.84789802e-03 -1.64960301e-...  EXG Channel 0_Window   \n",
      "3  [ 0.00272938  0.00998684 -0.02351082  0.016200...  EXG Channel 0_Window   \n",
      "4  [ 1.60127308e-03  9.85894490e-03 -2.81009297e-...  EXG Channel 0_Window   \n",
      "\n",
      "  window  \n",
      "0      1  \n",
      "1      2  \n",
      "2      3  \n",
      "3      4  \n",
      "4      5  \n",
      "\n",
      "[5 rows x 21 columns]\n"
     ]
    }
   ],
   "source": [
    "time_domain_features_df = pd.read_csv('time_domain_features.csv')\n",
    "frequency_domain_features_df = pd.read_csv('frequency_domain_features.csv')\n",
    "time_frequency_domain_features_df = pd.read_csv('time_frequency_domain_features.csv')\n",
    "\n",
    "# Gabungkan semua fitur menjadi satu DataFrame\n",
    "all_features_df = pd.concat([time_domain_features_df, frequency_domain_features_df, time_frequency_domain_features_df], axis=1)\n",
    "\n",
    "# Contoh: Tampilkan 5 baris pertama\n",
    "print(all_features_df.head())"
   ]
  },
  {
   "cell_type": "code",
   "execution_count": 3,
   "metadata": {},
   "outputs": [
    {
     "ename": "KeyError",
     "evalue": "\"['label'] not found in axis\"",
     "output_type": "error",
     "traceback": [
      "\u001b[1;31m---------------------------------------------------------------------------\u001b[0m",
      "\u001b[1;31mKeyError\u001b[0m                                  Traceback (most recent call last)",
      "\u001b[1;32m~\\AppData\\Local\\Temp\\ipykernel_169848\\3510096073.py\u001b[0m in \u001b[0;36m?\u001b[1;34m()\u001b[0m\n\u001b[0;32m      4\u001b[0m \u001b[1;31m# Jika label belum ada, Anda perlu menambahkan label sesuai dengan kelas data\u001b[0m\u001b[1;33m\u001b[0m\u001b[1;33m\u001b[0m\u001b[0m\n\u001b[0;32m      5\u001b[0m \u001b[1;31m# Contoh: all_features_df['label'] = [0, 1, 0, 1, ...]\u001b[0m\u001b[1;33m\u001b[0m\u001b[1;33m\u001b[0m\u001b[0m\n\u001b[0;32m      6\u001b[0m \u001b[1;33m\u001b[0m\u001b[0m\n\u001b[0;32m      7\u001b[0m \u001b[1;31m# Pisahkan fitur (X) dan label (y)\u001b[0m\u001b[1;33m\u001b[0m\u001b[1;33m\u001b[0m\u001b[0m\n\u001b[1;32m----> 8\u001b[1;33m \u001b[0mX\u001b[0m \u001b[1;33m=\u001b[0m \u001b[0mall_features_df\u001b[0m\u001b[1;33m.\u001b[0m\u001b[0mdrop\u001b[0m\u001b[1;33m(\u001b[0m\u001b[0mcolumns\u001b[0m\u001b[1;33m=\u001b[0m\u001b[1;33m[\u001b[0m\u001b[1;34m'label'\u001b[0m\u001b[1;33m]\u001b[0m\u001b[1;33m)\u001b[0m  \u001b[1;31m# Hapus kolom label untuk mendapatkan fitur\u001b[0m\u001b[1;33m\u001b[0m\u001b[1;33m\u001b[0m\u001b[0m\n\u001b[0m\u001b[0;32m      9\u001b[0m \u001b[0my\u001b[0m \u001b[1;33m=\u001b[0m \u001b[0mall_features_df\u001b[0m\u001b[1;33m[\u001b[0m\u001b[1;34m'label'\u001b[0m\u001b[1;33m]\u001b[0m  \u001b[1;31m# Kolom label\u001b[0m\u001b[1;33m\u001b[0m\u001b[1;33m\u001b[0m\u001b[0m\n\u001b[0;32m     10\u001b[0m \u001b[1;33m\u001b[0m\u001b[0m\n\u001b[0;32m     11\u001b[0m \u001b[1;31m# Bagi data menjadi training set dan testing set\u001b[0m\u001b[1;33m\u001b[0m\u001b[1;33m\u001b[0m\u001b[0m\n",
      "\u001b[1;32md:\\Skripsi\\eeg-analysis\\env\\Lib\\site-packages\\pandas\\core\\frame.py\u001b[0m in \u001b[0;36m?\u001b[1;34m(self, labels, axis, index, columns, level, inplace, errors)\u001b[0m\n\u001b[0;32m   5577\u001b[0m                 \u001b[0mweight\u001b[0m  \u001b[1;36m250.0\u001b[0m   \u001b[1;36m150.0\u001b[0m\u001b[1;33m\u001b[0m\u001b[1;33m\u001b[0m\u001b[0m\n\u001b[0;32m   5578\u001b[0m         \u001b[0mfalcon\u001b[0m  \u001b[0mspeed\u001b[0m   \u001b[1;36m320.0\u001b[0m   \u001b[1;36m250.0\u001b[0m\u001b[1;33m\u001b[0m\u001b[1;33m\u001b[0m\u001b[0m\n\u001b[0;32m   5579\u001b[0m                 \u001b[0mweight\u001b[0m  \u001b[1;36m1.0\u001b[0m     \u001b[1;36m0.8\u001b[0m\u001b[1;33m\u001b[0m\u001b[1;33m\u001b[0m\u001b[0m\n\u001b[0;32m   5580\u001b[0m         \"\"\"\n\u001b[1;32m-> 5581\u001b[1;33m         return super().drop(\n\u001b[0m\u001b[0;32m   5582\u001b[0m             \u001b[0mlabels\u001b[0m\u001b[1;33m=\u001b[0m\u001b[0mlabels\u001b[0m\u001b[1;33m,\u001b[0m\u001b[1;33m\u001b[0m\u001b[1;33m\u001b[0m\u001b[0m\n\u001b[0;32m   5583\u001b[0m             \u001b[0maxis\u001b[0m\u001b[1;33m=\u001b[0m\u001b[0maxis\u001b[0m\u001b[1;33m,\u001b[0m\u001b[1;33m\u001b[0m\u001b[1;33m\u001b[0m\u001b[0m\n\u001b[0;32m   5584\u001b[0m             \u001b[0mindex\u001b[0m\u001b[1;33m=\u001b[0m\u001b[0mindex\u001b[0m\u001b[1;33m,\u001b[0m\u001b[1;33m\u001b[0m\u001b[1;33m\u001b[0m\u001b[0m\n",
      "\u001b[1;32md:\\Skripsi\\eeg-analysis\\env\\Lib\\site-packages\\pandas\\core\\generic.py\u001b[0m in \u001b[0;36m?\u001b[1;34m(self, labels, axis, index, columns, level, inplace, errors)\u001b[0m\n\u001b[0;32m   4784\u001b[0m         \u001b[0mobj\u001b[0m \u001b[1;33m=\u001b[0m \u001b[0mself\u001b[0m\u001b[1;33m\u001b[0m\u001b[1;33m\u001b[0m\u001b[0m\n\u001b[0;32m   4785\u001b[0m \u001b[1;33m\u001b[0m\u001b[0m\n\u001b[0;32m   4786\u001b[0m         \u001b[1;32mfor\u001b[0m \u001b[0maxis\u001b[0m\u001b[1;33m,\u001b[0m \u001b[0mlabels\u001b[0m \u001b[1;32min\u001b[0m \u001b[0maxes\u001b[0m\u001b[1;33m.\u001b[0m\u001b[0mitems\u001b[0m\u001b[1;33m(\u001b[0m\u001b[1;33m)\u001b[0m\u001b[1;33m:\u001b[0m\u001b[1;33m\u001b[0m\u001b[1;33m\u001b[0m\u001b[0m\n\u001b[0;32m   4787\u001b[0m             \u001b[1;32mif\u001b[0m \u001b[0mlabels\u001b[0m \u001b[1;32mis\u001b[0m \u001b[1;32mnot\u001b[0m \u001b[1;32mNone\u001b[0m\u001b[1;33m:\u001b[0m\u001b[1;33m\u001b[0m\u001b[1;33m\u001b[0m\u001b[0m\n\u001b[1;32m-> 4788\u001b[1;33m                 \u001b[0mobj\u001b[0m \u001b[1;33m=\u001b[0m \u001b[0mobj\u001b[0m\u001b[1;33m.\u001b[0m\u001b[0m_drop_axis\u001b[0m\u001b[1;33m(\u001b[0m\u001b[0mlabels\u001b[0m\u001b[1;33m,\u001b[0m \u001b[0maxis\u001b[0m\u001b[1;33m,\u001b[0m \u001b[0mlevel\u001b[0m\u001b[1;33m=\u001b[0m\u001b[0mlevel\u001b[0m\u001b[1;33m,\u001b[0m \u001b[0merrors\u001b[0m\u001b[1;33m=\u001b[0m\u001b[0merrors\u001b[0m\u001b[1;33m)\u001b[0m\u001b[1;33m\u001b[0m\u001b[1;33m\u001b[0m\u001b[0m\n\u001b[0m\u001b[0;32m   4789\u001b[0m \u001b[1;33m\u001b[0m\u001b[0m\n\u001b[0;32m   4790\u001b[0m         \u001b[1;32mif\u001b[0m \u001b[0minplace\u001b[0m\u001b[1;33m:\u001b[0m\u001b[1;33m\u001b[0m\u001b[1;33m\u001b[0m\u001b[0m\n\u001b[0;32m   4791\u001b[0m             \u001b[0mself\u001b[0m\u001b[1;33m.\u001b[0m\u001b[0m_update_inplace\u001b[0m\u001b[1;33m(\u001b[0m\u001b[0mobj\u001b[0m\u001b[1;33m)\u001b[0m\u001b[1;33m\u001b[0m\u001b[1;33m\u001b[0m\u001b[0m\n",
      "\u001b[1;32md:\\Skripsi\\eeg-analysis\\env\\Lib\\site-packages\\pandas\\core\\generic.py\u001b[0m in \u001b[0;36m?\u001b[1;34m(self, labels, axis, level, errors, only_slice)\u001b[0m\n\u001b[0;32m   4855\u001b[0m                 \u001b[0mmask\u001b[0m \u001b[1;33m=\u001b[0m \u001b[1;33m~\u001b[0m\u001b[0maxis\u001b[0m\u001b[1;33m.\u001b[0m\u001b[0misin\u001b[0m\u001b[1;33m(\u001b[0m\u001b[0mlabels\u001b[0m\u001b[1;33m)\u001b[0m\u001b[1;33m\u001b[0m\u001b[1;33m\u001b[0m\u001b[0m\n\u001b[0;32m   4856\u001b[0m                 \u001b[1;31m# Check if label doesn't exist along axis\u001b[0m\u001b[1;33m\u001b[0m\u001b[1;33m\u001b[0m\u001b[0m\n\u001b[0;32m   4857\u001b[0m                 \u001b[0mlabels_missing\u001b[0m \u001b[1;33m=\u001b[0m \u001b[1;33m(\u001b[0m\u001b[0maxis\u001b[0m\u001b[1;33m.\u001b[0m\u001b[0mget_indexer_for\u001b[0m\u001b[1;33m(\u001b[0m\u001b[0mlabels\u001b[0m\u001b[1;33m)\u001b[0m \u001b[1;33m==\u001b[0m \u001b[1;33m-\u001b[0m\u001b[1;36m1\u001b[0m\u001b[1;33m)\u001b[0m\u001b[1;33m.\u001b[0m\u001b[0many\u001b[0m\u001b[1;33m(\u001b[0m\u001b[1;33m)\u001b[0m\u001b[1;33m\u001b[0m\u001b[1;33m\u001b[0m\u001b[0m\n\u001b[0;32m   4858\u001b[0m                 \u001b[1;32mif\u001b[0m \u001b[0merrors\u001b[0m \u001b[1;33m==\u001b[0m \u001b[1;34m\"raise\"\u001b[0m \u001b[1;32mand\u001b[0m \u001b[0mlabels_missing\u001b[0m\u001b[1;33m:\u001b[0m\u001b[1;33m\u001b[0m\u001b[1;33m\u001b[0m\u001b[0m\n\u001b[1;32m-> 4859\u001b[1;33m                     \u001b[1;32mraise\u001b[0m \u001b[0mKeyError\u001b[0m\u001b[1;33m(\u001b[0m\u001b[1;33mf\"\u001b[0m\u001b[1;33m{\u001b[0m\u001b[0mlabels\u001b[0m\u001b[1;33m}\u001b[0m\u001b[1;33m not found in axis\u001b[0m\u001b[1;33m\"\u001b[0m\u001b[1;33m)\u001b[0m\u001b[1;33m\u001b[0m\u001b[1;33m\u001b[0m\u001b[0m\n\u001b[0m\u001b[0;32m   4860\u001b[0m \u001b[1;33m\u001b[0m\u001b[0m\n\u001b[0;32m   4861\u001b[0m             \u001b[1;32mif\u001b[0m \u001b[0misinstance\u001b[0m\u001b[1;33m(\u001b[0m\u001b[0mmask\u001b[0m\u001b[1;33m.\u001b[0m\u001b[0mdtype\u001b[0m\u001b[1;33m,\u001b[0m \u001b[0mExtensionDtype\u001b[0m\u001b[1;33m)\u001b[0m\u001b[1;33m:\u001b[0m\u001b[1;33m\u001b[0m\u001b[1;33m\u001b[0m\u001b[0m\n\u001b[0;32m   4862\u001b[0m                 \u001b[1;31m# GH#45860\u001b[0m\u001b[1;33m\u001b[0m\u001b[1;33m\u001b[0m\u001b[0m\n",
      "\u001b[1;31mKeyError\u001b[0m: \"['label'] not found in axis\""
     ]
    }
   ],
   "source": [
    "from sklearn.model_selection import train_test_split\n",
    "\n",
    "# Misalkan label disimpan dalam kolom 'label' (gantilah dengan kolom yang sesuai)\n",
    "# Jika label belum ada, Anda perlu menambahkan label sesuai dengan kelas data\n",
    "# Contoh: all_features_df['label'] = [0, 1, 0, 1, ...]\n",
    "\n",
    "# Pisahkan fitur (X) dan label (y)\n",
    "X = all_features_df.drop(columns=['label'])  # Hapus kolom label untuk mendapatkan fitur\n",
    "y = all_features_df['label']  # Kolom label\n",
    "\n",
    "# Bagi data menjadi training set dan testing set\n",
    "X_train, X_test, y_train, y_test = train_test_split(X, y, test_size=0.2, random_state=42)\n",
    "\n",
    "print(\"Jumlah data training:\", len(X_train))\n",
    "print(\"Jumlah data testing:\", len(X_test))"
   ]
  },
  {
   "cell_type": "code",
   "execution_count": null,
   "metadata": {},
   "outputs": [],
   "source": [
    "from sklearn.svm import SVC\n",
    "from sklearn.metrics import accuracy_score\n",
    "\n",
    "# Inisialisasi model SVM\n",
    "svm_model = SVC(kernel='linear')  # Gunakan kernel linear untuk klasifikasi\n",
    "\n",
    "# Latih model\n",
    "svm_model.fit(X_train, y_train)\n",
    "\n",
    "# Prediksi pada testing set\n",
    "y_pred_svm = svm_model.predict(X_test)\n",
    "\n",
    "# Hitung akurasi\n",
    "accuracy_svm = accuracy_score(y_test, y_pred_svm)\n",
    "print(\"Akurasi SVM:\", accuracy_svm)"
   ]
  },
  {
   "cell_type": "code",
   "execution_count": null,
   "metadata": {},
   "outputs": [],
   "source": [
    "from sklearn.naive_bayes import GaussianNB\n",
    "\n",
    "# Inisialisasi model Naive Bayes\n",
    "nb_model = GaussianNB()\n",
    "\n",
    "# Latih model\n",
    "nb_model.fit(X_train, y_train)\n",
    "\n",
    "# Prediksi pada testing set\n",
    "y_pred_nb = nb_model.predict(X_test)\n",
    "\n",
    "# Hitung akurasi\n",
    "accuracy_nb = accuracy_score(y_test, y_pred_nb)\n",
    "print(\"Akurasi Naive Bayes:\", accuracy_nb)"
   ]
  },
  {
   "cell_type": "code",
   "execution_count": null,
   "metadata": {},
   "outputs": [],
   "source": [
    "from sklearn.ensemble import RandomForestClassifier\n",
    "\n",
    "# Inisialisasi model Random Forest\n",
    "rf_model = RandomForestClassifier(n_estimators=100, random_state=42)\n",
    "\n",
    "# Latih model\n",
    "rf_model.fit(X_train, y_train)\n",
    "\n",
    "# Prediksi pada testing set\n",
    "y_pred_rf = rf_model.predict(X_test)\n",
    "\n",
    "# Hitung akurasi\n",
    "accuracy_rf = accuracy_score(y_test, y_pred_rf)\n",
    "print(\"Akurasi Random Forest:\", accuracy_rf)"
   ]
  },
  {
   "cell_type": "code",
   "execution_count": null,
   "metadata": {},
   "outputs": [],
   "source": [
    "from sklearn.metrics import confusion_matrix, classification_report\n",
    "\n",
    "# Confusion Matrix untuk SVM\n",
    "print(\"Confusion Matrix (SVM):\")\n",
    "print(confusion_matrix(y_test, y_pred_svm))\n",
    "\n",
    "# Classification Report untuk SVM\n",
    "print(\"Classification Report (SVM):\")\n",
    "print(classification_report(y_test, y_pred_svm))\n",
    "\n",
    "# Confusion Matrix untuk Naive Bayes\n",
    "print(\"Confusion Matrix (Naive Bayes):\")\n",
    "print(confusion_matrix(y_test, y_pred_nb))\n",
    "\n",
    "# Classification Report untuk Naive Bayes\n",
    "print(\"Classification Report (Naive Bayes):\")\n",
    "print(classification_report(y_test, y_pred_nb))\n",
    "\n",
    "# Confusion Matrix untuk Random Forest\n",
    "print(\"Confusion Matrix (Random Forest):\")\n",
    "print(confusion_matrix(y_test, y_pred_rf))\n",
    "\n",
    "# Classification Report untuk Random Forest\n",
    "print(\"Classification Report (Random Forest):\")\n",
    "print(classification_report(y_test, y_pred_rf))"
   ]
  }
 ],
 "metadata": {
  "kernelspec": {
   "display_name": "env",
   "language": "python",
   "name": "python3"
  },
  "language_info": {
   "codemirror_mode": {
    "name": "ipython",
    "version": 3
   },
   "file_extension": ".py",
   "mimetype": "text/x-python",
   "name": "python",
   "nbconvert_exporter": "python",
   "pygments_lexer": "ipython3",
   "version": "3.12.0"
  }
 },
 "nbformat": 4,
 "nbformat_minor": 2
}
